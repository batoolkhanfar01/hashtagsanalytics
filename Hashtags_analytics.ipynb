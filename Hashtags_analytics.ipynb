{
  "nbformat": 4,
  "nbformat_minor": 0,
  "metadata": {
    "colab": {
      "name": "Hashtags analytics.ipynb",
      "provenance": [],
      "authorship_tag": "ABX9TyOJSl4ZlvzRC8alTrVogIfk",
      "include_colab_link": true
    },
    "kernelspec": {
      "name": "python3",
      "display_name": "Python 3"
    },
    "language_info": {
      "name": "python"
    }
  },
  "cells": [
    {
      "cell_type": "markdown",
      "metadata": {
        "id": "view-in-github",
        "colab_type": "text"
      },
      "source": [
        "<a href=\"https://colab.research.google.com/github/batoolkhanfar01/hashtagsanalytics/blob/main/Hashtags_analytics.ipynb\" target=\"_parent\"><img src=\"https://colab.research.google.com/assets/colab-badge.svg\" alt=\"Open In Colab\"/></a>"
      ]
    },
    {
      "cell_type": "code",
      "execution_count": 1,
      "metadata": {
        "id": "TVePu8qaqUVj"
      },
      "outputs": [],
      "source": [
        "import pandas as pd"
      ]
    },
    {
      "cell_type": "code",
      "source": [
        "tweet = pd.read_csv('tweets.csv')\n",
        "tweet.head()"
      ],
      "metadata": {
        "colab": {
          "base_uri": "https://localhost:8080/",
          "height": 635
        },
        "id": "VdJq_DoUrhH2",
        "outputId": "ffb7daf8-be35-44cb-ca3f-c56d7aca78ef"
      },
      "execution_count": 2,
      "outputs": [
        {
          "output_type": "execute_result",
          "data": {
            "text/plain": [
              "             id  retweets_count  favorite_count           created_at  \\\n",
              "0  8.263846e+17          1406.0          4903.0  2017-01-31 11:00:07   \n",
              "1  8.263843e+17           907.0          2877.0  2017-01-31 10:59:12   \n",
              "2  8.263827e+17           694.0             0.0  2017-01-31 10:52:33   \n",
              "3  8.263826e+17           666.0             0.0  2017-01-31 10:52:22   \n",
              "4  8.263826e+17           716.0             0.0  2017-01-31 10:52:16   \n",
              "\n",
              "                                                text lang  retweeted  \\\n",
              "0  The President's address wonderfully encapsulat...   en      False   \n",
              "1  Rashtrapati Ji's address to both Houses of Par...   en      False   \n",
              "2  RT @PMOIndia: Empowering the marginalised. htt...   en      False   \n",
              "3  RT @PMOIndia: Commitment to welfare of farmers...   en      False   \n",
              "4  RT @PMOIndia: Improving the quality of life fo...   en      False   \n",
              "\n",
              "   followers_count  friends_count  hashtags_count              description  \\\n",
              "0       26809964.0         1641.0             1.0  Prime Minister of India   \n",
              "1       26809964.0         1641.0             0.0  Prime Minister of India   \n",
              "2       26809964.0         1641.0             0.0  Prime Minister of India   \n",
              "3       26809964.0         1641.0             0.0  Prime Minister of India   \n",
              "4       26809964.0         1641.0             0.0  Prime Minister of India   \n",
              "\n",
              "  location                               background_image_url  \\\n",
              "0    India  http://pbs.twimg.com/profile_background_images...   \n",
              "1    India  http://pbs.twimg.com/profile_background_images...   \n",
              "2    India  http://pbs.twimg.com/profile_background_images...   \n",
              "3    India  http://pbs.twimg.com/profile_background_images...   \n",
              "4    India  http://pbs.twimg.com/profile_background_images...   \n",
              "\n",
              "               source  \n",
              "0  Twitter Web Client  \n",
              "1  Twitter Web Client  \n",
              "2  Twitter Web Client  \n",
              "3  Twitter Web Client  \n",
              "4  Twitter Web Client  "
            ],
            "text/html": [
              "\n",
              "  <div id=\"df-5aadd0b4-82d9-4f84-bdf3-8fd9bd0d3538\">\n",
              "    <div class=\"colab-df-container\">\n",
              "      <div>\n",
              "<style scoped>\n",
              "    .dataframe tbody tr th:only-of-type {\n",
              "        vertical-align: middle;\n",
              "    }\n",
              "\n",
              "    .dataframe tbody tr th {\n",
              "        vertical-align: top;\n",
              "    }\n",
              "\n",
              "    .dataframe thead th {\n",
              "        text-align: right;\n",
              "    }\n",
              "</style>\n",
              "<table border=\"1\" class=\"dataframe\">\n",
              "  <thead>\n",
              "    <tr style=\"text-align: right;\">\n",
              "      <th></th>\n",
              "      <th>id</th>\n",
              "      <th>retweets_count</th>\n",
              "      <th>favorite_count</th>\n",
              "      <th>created_at</th>\n",
              "      <th>text</th>\n",
              "      <th>lang</th>\n",
              "      <th>retweeted</th>\n",
              "      <th>followers_count</th>\n",
              "      <th>friends_count</th>\n",
              "      <th>hashtags_count</th>\n",
              "      <th>description</th>\n",
              "      <th>location</th>\n",
              "      <th>background_image_url</th>\n",
              "      <th>source</th>\n",
              "    </tr>\n",
              "  </thead>\n",
              "  <tbody>\n",
              "    <tr>\n",
              "      <th>0</th>\n",
              "      <td>8.263846e+17</td>\n",
              "      <td>1406.0</td>\n",
              "      <td>4903.0</td>\n",
              "      <td>2017-01-31 11:00:07</td>\n",
              "      <td>The President's address wonderfully encapsulat...</td>\n",
              "      <td>en</td>\n",
              "      <td>False</td>\n",
              "      <td>26809964.0</td>\n",
              "      <td>1641.0</td>\n",
              "      <td>1.0</td>\n",
              "      <td>Prime Minister of India</td>\n",
              "      <td>India</td>\n",
              "      <td>http://pbs.twimg.com/profile_background_images...</td>\n",
              "      <td>Twitter Web Client</td>\n",
              "    </tr>\n",
              "    <tr>\n",
              "      <th>1</th>\n",
              "      <td>8.263843e+17</td>\n",
              "      <td>907.0</td>\n",
              "      <td>2877.0</td>\n",
              "      <td>2017-01-31 10:59:12</td>\n",
              "      <td>Rashtrapati Ji's address to both Houses of Par...</td>\n",
              "      <td>en</td>\n",
              "      <td>False</td>\n",
              "      <td>26809964.0</td>\n",
              "      <td>1641.0</td>\n",
              "      <td>0.0</td>\n",
              "      <td>Prime Minister of India</td>\n",
              "      <td>India</td>\n",
              "      <td>http://pbs.twimg.com/profile_background_images...</td>\n",
              "      <td>Twitter Web Client</td>\n",
              "    </tr>\n",
              "    <tr>\n",
              "      <th>2</th>\n",
              "      <td>8.263827e+17</td>\n",
              "      <td>694.0</td>\n",
              "      <td>0.0</td>\n",
              "      <td>2017-01-31 10:52:33</td>\n",
              "      <td>RT @PMOIndia: Empowering the marginalised. htt...</td>\n",
              "      <td>en</td>\n",
              "      <td>False</td>\n",
              "      <td>26809964.0</td>\n",
              "      <td>1641.0</td>\n",
              "      <td>0.0</td>\n",
              "      <td>Prime Minister of India</td>\n",
              "      <td>India</td>\n",
              "      <td>http://pbs.twimg.com/profile_background_images...</td>\n",
              "      <td>Twitter Web Client</td>\n",
              "    </tr>\n",
              "    <tr>\n",
              "      <th>3</th>\n",
              "      <td>8.263826e+17</td>\n",
              "      <td>666.0</td>\n",
              "      <td>0.0</td>\n",
              "      <td>2017-01-31 10:52:22</td>\n",
              "      <td>RT @PMOIndia: Commitment to welfare of farmers...</td>\n",
              "      <td>en</td>\n",
              "      <td>False</td>\n",
              "      <td>26809964.0</td>\n",
              "      <td>1641.0</td>\n",
              "      <td>0.0</td>\n",
              "      <td>Prime Minister of India</td>\n",
              "      <td>India</td>\n",
              "      <td>http://pbs.twimg.com/profile_background_images...</td>\n",
              "      <td>Twitter Web Client</td>\n",
              "    </tr>\n",
              "    <tr>\n",
              "      <th>4</th>\n",
              "      <td>8.263826e+17</td>\n",
              "      <td>716.0</td>\n",
              "      <td>0.0</td>\n",
              "      <td>2017-01-31 10:52:16</td>\n",
              "      <td>RT @PMOIndia: Improving the quality of life fo...</td>\n",
              "      <td>en</td>\n",
              "      <td>False</td>\n",
              "      <td>26809964.0</td>\n",
              "      <td>1641.0</td>\n",
              "      <td>0.0</td>\n",
              "      <td>Prime Minister of India</td>\n",
              "      <td>India</td>\n",
              "      <td>http://pbs.twimg.com/profile_background_images...</td>\n",
              "      <td>Twitter Web Client</td>\n",
              "    </tr>\n",
              "  </tbody>\n",
              "</table>\n",
              "</div>\n",
              "      <button class=\"colab-df-convert\" onclick=\"convertToInteractive('df-5aadd0b4-82d9-4f84-bdf3-8fd9bd0d3538')\"\n",
              "              title=\"Convert this dataframe to an interactive table.\"\n",
              "              style=\"display:none;\">\n",
              "        \n",
              "  <svg xmlns=\"http://www.w3.org/2000/svg\" height=\"24px\"viewBox=\"0 0 24 24\"\n",
              "       width=\"24px\">\n",
              "    <path d=\"M0 0h24v24H0V0z\" fill=\"none\"/>\n",
              "    <path d=\"M18.56 5.44l.94 2.06.94-2.06 2.06-.94-2.06-.94-.94-2.06-.94 2.06-2.06.94zm-11 1L8.5 8.5l.94-2.06 2.06-.94-2.06-.94L8.5 2.5l-.94 2.06-2.06.94zm10 10l.94 2.06.94-2.06 2.06-.94-2.06-.94-.94-2.06-.94 2.06-2.06.94z\"/><path d=\"M17.41 7.96l-1.37-1.37c-.4-.4-.92-.59-1.43-.59-.52 0-1.04.2-1.43.59L10.3 9.45l-7.72 7.72c-.78.78-.78 2.05 0 2.83L4 21.41c.39.39.9.59 1.41.59.51 0 1.02-.2 1.41-.59l7.78-7.78 2.81-2.81c.8-.78.8-2.07 0-2.86zM5.41 20L4 18.59l7.72-7.72 1.47 1.35L5.41 20z\"/>\n",
              "  </svg>\n",
              "      </button>\n",
              "      \n",
              "  <style>\n",
              "    .colab-df-container {\n",
              "      display:flex;\n",
              "      flex-wrap:wrap;\n",
              "      gap: 12px;\n",
              "    }\n",
              "\n",
              "    .colab-df-convert {\n",
              "      background-color: #E8F0FE;\n",
              "      border: none;\n",
              "      border-radius: 50%;\n",
              "      cursor: pointer;\n",
              "      display: none;\n",
              "      fill: #1967D2;\n",
              "      height: 32px;\n",
              "      padding: 0 0 0 0;\n",
              "      width: 32px;\n",
              "    }\n",
              "\n",
              "    .colab-df-convert:hover {\n",
              "      background-color: #E2EBFA;\n",
              "      box-shadow: 0px 1px 2px rgba(60, 64, 67, 0.3), 0px 1px 3px 1px rgba(60, 64, 67, 0.15);\n",
              "      fill: #174EA6;\n",
              "    }\n",
              "\n",
              "    [theme=dark] .colab-df-convert {\n",
              "      background-color: #3B4455;\n",
              "      fill: #D2E3FC;\n",
              "    }\n",
              "\n",
              "    [theme=dark] .colab-df-convert:hover {\n",
              "      background-color: #434B5C;\n",
              "      box-shadow: 0px 1px 3px 1px rgba(0, 0, 0, 0.15);\n",
              "      filter: drop-shadow(0px 1px 2px rgba(0, 0, 0, 0.3));\n",
              "      fill: #FFFFFF;\n",
              "    }\n",
              "  </style>\n",
              "\n",
              "      <script>\n",
              "        const buttonEl =\n",
              "          document.querySelector('#df-5aadd0b4-82d9-4f84-bdf3-8fd9bd0d3538 button.colab-df-convert');\n",
              "        buttonEl.style.display =\n",
              "          google.colab.kernel.accessAllowed ? 'block' : 'none';\n",
              "\n",
              "        async function convertToInteractive(key) {\n",
              "          const element = document.querySelector('#df-5aadd0b4-82d9-4f84-bdf3-8fd9bd0d3538');\n",
              "          const dataTable =\n",
              "            await google.colab.kernel.invokeFunction('convertToInteractive',\n",
              "                                                     [key], {});\n",
              "          if (!dataTable) return;\n",
              "\n",
              "          const docLinkHtml = 'Like what you see? Visit the ' +\n",
              "            '<a target=\"_blank\" href=https://colab.research.google.com/notebooks/data_table.ipynb>data table notebook</a>'\n",
              "            + ' to learn more about interactive tables.';\n",
              "          element.innerHTML = '';\n",
              "          dataTable['output_type'] = 'display_data';\n",
              "          await google.colab.output.renderOutput(dataTable, element);\n",
              "          const docLink = document.createElement('div');\n",
              "          docLink.innerHTML = docLinkHtml;\n",
              "          element.appendChild(docLink);\n",
              "        }\n",
              "      </script>\n",
              "    </div>\n",
              "  </div>\n",
              "  "
            ]
          },
          "metadata": {},
          "execution_count": 2
        }
      ]
    },
    {
      "cell_type": "code",
      "source": [
        "tweet['source'].describe()"
      ],
      "metadata": {
        "colab": {
          "base_uri": "https://localhost:8080/"
        },
        "id": "FbiXIxL7svN2",
        "outputId": "8cc99331-1dd7-44f2-fb44-df565fa37d0d"
      },
      "execution_count": 6,
      "outputs": [
        {
          "output_type": "execute_result",
          "data": {
            "text/plain": [
              "count                   3220\n",
              "unique                     6\n",
              "top       Twitter Web Client\n",
              "freq                    1965\n",
              "Name: source, dtype: object"
            ]
          },
          "metadata": {},
          "execution_count": 6
        }
      ]
    },
    {
      "cell_type": "code",
      "source": [
        "tweet['source'].value_counts()"
      ],
      "metadata": {
        "colab": {
          "base_uri": "https://localhost:8080/"
        },
        "id": "EcPCJdC_ynG7",
        "outputId": "d2c86dd5-6027-4d79-c86d-229b7b329979"
      },
      "execution_count": 12,
      "outputs": [
        {
          "output_type": "execute_result",
          "data": {
            "text/plain": [
              "Twitter Web Client        1965\n",
              "Twitter for iPhone         771\n",
              "Twitter for BlackBerry     424\n",
              "Media Studio                55\n",
              "Instagram                    3\n",
              "Twitter for iPad             2\n",
              "Name: source, dtype: int64"
            ]
          },
          "metadata": {},
          "execution_count": 12
        }
      ]
    },
    {
      "cell_type": "code",
      "source": [
        "tweet['created_at'] = pd.to_datetime(tweet['created_at'], format = \"%Y-%m-%d %H:%M:%S\")\n",
        "tweet['created_at'].describe()"
      ],
      "metadata": {
        "colab": {
          "base_uri": "https://localhost:8080/"
        },
        "id": "AZlY96-5y_3G",
        "outputId": "1d9ebcae-d82b-43a8-af23-f0c80a91bfe1"
      },
      "execution_count": 13,
      "outputs": [
        {
          "output_type": "stream",
          "name": "stderr",
          "text": [
            "/usr/local/lib/python3.7/dist-packages/ipykernel_launcher.py:2: FutureWarning: Treating datetime data as categorical rather than numeric in `.describe` is deprecated and will be removed in a future version of pandas. Specify `datetime_is_numeric=True` to silence this warning and adopt the future behavior now.\n",
            "  \n"
          ]
        },
        {
          "output_type": "execute_result",
          "data": {
            "text/plain": [
              "count                    3220\n",
              "unique                   3220\n",
              "top       2017-01-31 11:00:07\n",
              "freq                        1\n",
              "first     2016-03-09 12:22:10\n",
              "last      2017-01-31 11:00:07\n",
              "Name: created_at, dtype: object"
            ]
          },
          "metadata": {},
          "execution_count": 13
        }
      ]
    },
    {
      "cell_type": "code",
      "source": [
        "tweet['text']"
      ],
      "metadata": {
        "colab": {
          "base_uri": "https://localhost:8080/"
        },
        "id": "R6fS9gfBBdOU",
        "outputId": "f58e4d79-9066-4573-f098-5d848135d8c0"
      },
      "execution_count": 14,
      "outputs": [
        {
          "output_type": "execute_result",
          "data": {
            "text/plain": [
              "0       The President's address wonderfully encapsulat...\n",
              "1       Rashtrapati Ji's address to both Houses of Par...\n",
              "2       RT @PMOIndia: Empowering the marginalised. htt...\n",
              "3       RT @PMOIndia: Commitment to welfare of farmers...\n",
              "4       RT @PMOIndia: Improving the quality of life fo...\n",
              "                              ...                        \n",
              "3215    Passage of Real Estate Bill is great news for ...\n",
              "3216    RT @dpradhanbjp: Highlights of Pradhan Mantri ...\n",
              "3217    Successful launch of IRNSS-1F is an accomplish...\n",
              "3218    On CISF's Raising Day, I salute all CISF perso...\n",
              "3219    सफ़र में धूप तो होगी जो चल सको तो चलो... निदा ...\n",
              "Name: text, Length: 3220, dtype: object"
            ]
          },
          "metadata": {},
          "execution_count": 14
        }
      ]
    },
    {
      "cell_type": "code",
      "source": [
        "!pip install wordcloud"
      ],
      "metadata": {
        "colab": {
          "base_uri": "https://localhost:8080/"
        },
        "id": "KBde4Y7zB_aj",
        "outputId": "ddd4c1c9-af47-4d5c-962a-6b946f8cb567"
      },
      "execution_count": 19,
      "outputs": [
        {
          "output_type": "stream",
          "name": "stdout",
          "text": [
            "Looking in indexes: https://pypi.org/simple, https://us-python.pkg.dev/colab-wheels/public/simple/\n",
            "Requirement already satisfied: wordcloud in /usr/local/lib/python3.7/dist-packages (1.8.2.2)\n",
            "Requirement already satisfied: matplotlib in /usr/local/lib/python3.7/dist-packages (from wordcloud) (3.2.2)\n",
            "Requirement already satisfied: pillow in /usr/local/lib/python3.7/dist-packages (from wordcloud) (7.1.2)\n",
            "Requirement already satisfied: numpy>=1.6.1 in /usr/local/lib/python3.7/dist-packages (from wordcloud) (1.21.6)\n",
            "Requirement already satisfied: cycler>=0.10 in /usr/local/lib/python3.7/dist-packages (from matplotlib->wordcloud) (0.11.0)\n",
            "Requirement already satisfied: pyparsing!=2.0.4,!=2.1.2,!=2.1.6,>=2.0.1 in /usr/local/lib/python3.7/dist-packages (from matplotlib->wordcloud) (3.0.9)\n",
            "Requirement already satisfied: kiwisolver>=1.0.1 in /usr/local/lib/python3.7/dist-packages (from matplotlib->wordcloud) (1.4.4)\n",
            "Requirement already satisfied: python-dateutil>=2.1 in /usr/local/lib/python3.7/dist-packages (from matplotlib->wordcloud) (2.8.2)\n",
            "Requirement already satisfied: typing-extensions in /usr/local/lib/python3.7/dist-packages (from kiwisolver>=1.0.1->matplotlib->wordcloud) (4.1.1)\n",
            "Requirement already satisfied: six>=1.5 in /usr/local/lib/python3.7/dist-packages (from python-dateutil>=2.1->matplotlib->wordcloud) (1.15.0)\n"
          ]
        }
      ]
    },
    {
      "cell_type": "code",
      "source": [
        "from wordcloud import WordCloud"
      ],
      "metadata": {
        "id": "-l0kMY1UBnWi"
      },
      "execution_count": 21,
      "outputs": []
    },
    {
      "cell_type": "code",
      "source": [
        "wc = WordCloud().generate(' '.join(tweet['text']))"
      ],
      "metadata": {
        "colab": {
          "base_uri": "https://localhost:8080/"
        },
        "id": "mtyIEqoTB5UV",
        "outputId": "b9ac4c5d-c682-4cb3-a880-a0a1ddb2e478"
      },
      "execution_count": 23,
      "outputs": [
        {
          "output_type": "execute_result",
          "data": {
            "text/plain": [
              "<wordcloud.wordcloud.WordCloud at 0x7f1777209e10>"
            ]
          },
          "metadata": {},
          "execution_count": 23
        }
      ]
    },
    {
      "cell_type": "code",
      "source": [
        "#split Texts\n",
        "hashtags = []\n",
        "for tweets in tweet['text'].str.lower().str.replace('[^a-z\\s#]', ''): #Clean text \n",
        "  words = tweets.split(' ')\n",
        "  temp = [word for word in words if word.startswith('#')] #Extract the hashtags only\n",
        "  hashtags.extend(temp)\n",
        "hashtags_freq = pd.Series(hashtags).value_counts() #count the frequency of these hashtags\n",
        "hashtags_freq.head(20)\n",
        "   "
      ],
      "metadata": {
        "colab": {
          "base_uri": "https://localhost:8080/"
        },
        "id": "ZXxnU6mcCpjh",
        "outputId": "0ad8f0e6-ae32-4cf3-cdab-ea99c11d74c3"
      },
      "execution_count": 34,
      "outputs": [
        {
          "output_type": "stream",
          "name": "stderr",
          "text": [
            "/usr/local/lib/python3.7/dist-packages/ipykernel_launcher.py:3: FutureWarning: The default value of regex will change from True to False in a future version.\n",
            "  This is separate from the ipykernel package so we can avoid doing imports until\n"
          ]
        },
        {
          "output_type": "execute_result",
          "data": {
            "text/plain": [
              "#sandeshsoldiers         105\n",
              "#mannkibaat               91\n",
              "#tirangayatra             82\n",
              "#transformingindia        52\n",
              "#yogaday                  50\n",
              "#idy                      43\n",
              "#mycleanindia             24\n",
              "#rio                      19\n",
              "#                         14\n",
              "#digidhanmela             10\n",
              "#paralympics               9\n",
              "#yoga                      9\n",
              "#iyd                       9\n",
              "#happydiwali               9\n",
              "#presidentmukherjee        9\n",
              "#diwali                    8\n",
              "#swachhbharat              8\n",
              "#internationalyogaday      7\n",
              "#republicday               5\n",
              "#swachhbharatabhiyan       4\n",
              "dtype: int64"
            ]
          },
          "metadata": {},
          "execution_count": 34
        }
      ]
    },
    {
      "cell_type": "code",
      "source": [
        ""
      ],
      "metadata": {
        "id": "rkRD1NkIKSz8"
      },
      "execution_count": null,
      "outputs": []
    }
  ]
}